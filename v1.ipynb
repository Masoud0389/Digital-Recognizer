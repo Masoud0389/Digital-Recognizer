{
 "cells": [
  {
   "cell_type": "code",
   "execution_count": 1,
   "id": "e9b1ad98",
   "metadata": {
    "_cell_guid": "b1076dfc-b9ad-4769-8c92-a6c4dae69d19",
    "_uuid": "8f2839f25d086af736a60e9eeb907d3b93b6e0e5",
    "execution": {
     "iopub.execute_input": "2023-03-28T00:58:06.759282Z",
     "iopub.status.busy": "2023-03-28T00:58:06.758893Z",
     "iopub.status.idle": "2023-03-28T00:58:06.772634Z",
     "shell.execute_reply": "2023-03-28T00:58:06.771590Z"
    },
    "papermill": {
     "duration": 0.02256,
     "end_time": "2023-03-28T00:58:06.775831",
     "exception": false,
     "start_time": "2023-03-28T00:58:06.753271",
     "status": "completed"
    },
    "tags": []
   },
   "outputs": [
    {
     "name": "stdout",
     "output_type": "stream",
     "text": [
      "/kaggle/input/digit-recognizer/sample_submission.csv\n",
      "/kaggle/input/digit-recognizer/train.csv\n",
      "/kaggle/input/digit-recognizer/test.csv\n"
     ]
    }
   ],
   "source": [
    "# This Python 3 environment comes with many helpful analytics libraries installed\n",
    "# It is defined by the kaggle/python Docker image: https://github.com/kaggle/docker-python\n",
    "# For example, here's several helpful packages to load\n",
    "\n",
    "import numpy as np # linear algebra\n",
    "import pandas as pd # data processing, CSV file I/O (e.g. pd.read_csv)\n",
    "\n",
    "# Input data files are available in the read-only \"../input/\" directory\n",
    "# For example, running this (by clicking run or pressing Shift+Enter) will list all files under the input directory\n",
    "\n",
    "import os\n",
    "for dirname, _, filenames in os.walk('/kaggle/input'):\n",
    "    for filename in filenames:\n",
    "        print(os.path.join(dirname, filename))\n",
    "\n",
    "# You can write up to 20GB to the current directory (/kaggle/working/) that gets preserved as output when you create a version using \"Save & Run All\" \n",
    "# You can also write temporary files to /kaggle/temp/, but they won't be saved outside of the current session"
   ]
  },
  {
   "cell_type": "markdown",
   "id": "485482c7",
   "metadata": {
    "papermill": {
     "duration": 0.003027,
     "end_time": "2023-03-28T00:58:06.782943",
     "exception": false,
     "start_time": "2023-03-28T00:58:06.779916",
     "status": "completed"
    },
    "tags": []
   },
   "source": [
    "# Loading data"
   ]
  },
  {
   "cell_type": "markdown",
   "id": "04c3b44a",
   "metadata": {
    "papermill": {
     "duration": 0.002973,
     "end_time": "2023-03-28T00:58:06.789057",
     "exception": false,
     "start_time": "2023-03-28T00:58:06.786084",
     "status": "completed"
    },
    "tags": []
   },
   "source": [
    "**Training data**"
   ]
  },
  {
   "cell_type": "code",
   "execution_count": 2,
   "id": "f0380e7f",
   "metadata": {
    "execution": {
     "iopub.execute_input": "2023-03-28T00:58:06.797117Z",
     "iopub.status.busy": "2023-03-28T00:58:06.796245Z",
     "iopub.status.idle": "2023-03-28T00:58:21.004857Z",
     "shell.execute_reply": "2023-03-28T00:58:21.003681Z"
    },
    "papermill": {
     "duration": 14.215632,
     "end_time": "2023-03-28T00:58:21.007805",
     "exception": false,
     "start_time": "2023-03-28T00:58:06.792173",
     "status": "completed"
    },
    "tags": []
   },
   "outputs": [],
   "source": [
    "# import necessary libraries\n",
    "import numpy as np\n",
    "import pandas as pd\n",
    "import matplotlib.pyplot as plt\n",
    "from sklearn.model_selection import train_test_split\n",
    "from sklearn.metrics import accuracy_score, confusion_matrix\n",
    "from sklearn.neighbors import KNeighborsClassifier\n",
    "from sklearn.svm import SVC\n",
    "from sklearn.tree import DecisionTreeClassifier\n",
    "from tensorflow.keras.datasets import mnist\n",
    "from tensorflow.keras.models import Sequential\n",
    "from tensorflow.keras.layers import Dense, Conv2D, MaxPooling2D, Flatten\n",
    "from tensorflow.keras.utils import to_categorical\n",
    "\n",
    "# load the MNIST dataset\n",
    "train_data = pd.read_csv(\"/kaggle/input/digit-recognizer/train.csv\")\n",
    "test_data = pd.read_csv(\"/kaggle/input/digit-recognizer/test.csv\")\n",
    "X = train_data.iloc[:, train_data.columns != 'label'] \n",
    "y = train_data.iloc[:, train_data.columns == 'label']\n",
    "from sklearn.model_selection import train_test_split\n",
    "X_train, X_test, y_train, y_test = \\\n",
    "    train_test_split(X, y, stratify=y, \\\n",
    "    train_size=0.75, random_state = 0)\n",
    "X_train = pd.DataFrame(X_train)\n",
    "X_test = pd.DataFrame(X_test)\n",
    "y_test_ML = y_test\n",
    "y_train_ML = y_train"
   ]
  },
  {
   "cell_type": "code",
   "execution_count": 3,
   "id": "62fca2d9",
   "metadata": {
    "execution": {
     "iopub.execute_input": "2023-03-28T00:58:21.017288Z",
     "iopub.status.busy": "2023-03-28T00:58:21.015670Z",
     "iopub.status.idle": "2023-03-28T00:58:21.023776Z",
     "shell.execute_reply": "2023-03-28T00:58:21.022854Z"
    },
    "papermill": {
     "duration": 0.014657,
     "end_time": "2023-03-28T00:58:21.026004",
     "exception": false,
     "start_time": "2023-03-28T00:58:21.011347",
     "status": "completed"
    },
    "tags": []
   },
   "outputs": [],
   "source": [
    "# preprocess the data\n",
    "X_train = X_train.values.reshape(X_train.shape[0], 28, 28, 1)\n",
    "X_test = X_test.values.reshape(X_test.shape[0], 28, 28, 1)\n",
    "y_train = to_categorical(y_train, num_classes=10)\n",
    "y_test = to_categorical(y_test, num_classes=10)"
   ]
  },
  {
   "cell_type": "code",
   "execution_count": 4,
   "id": "d0b9d6d2",
   "metadata": {
    "execution": {
     "iopub.execute_input": "2023-03-28T00:58:21.033904Z",
     "iopub.status.busy": "2023-03-28T00:58:21.033435Z",
     "iopub.status.idle": "2023-03-28T00:58:24.979908Z",
     "shell.execute_reply": "2023-03-28T00:58:24.978426Z"
    },
    "papermill": {
     "duration": 3.954571,
     "end_time": "2023-03-28T00:58:24.983763",
     "exception": false,
     "start_time": "2023-03-28T00:58:21.029192",
     "status": "completed"
    },
    "tags": []
   },
   "outputs": [],
   "source": [
    "# create a CNN model\n",
    "model = Sequential()\n",
    "model.add(Conv2D(32, kernel_size=(3, 3), activation=\"relu\", input_shape=(28, 28, 1)))\n",
    "model.add(MaxPooling2D(pool_size=(2, 2)))\n",
    "model.add(Conv2D(64, kernel_size=(3, 3), activation=\"relu\"))\n",
    "model.add(MaxPooling2D(pool_size=(2, 2)))\n",
    "model.add(Flatten())\n",
    "model.add(Dense(128, activation=\"relu\"))\n",
    "model.add(Dense(10, activation=\"softmax\"))\n",
    "model.compile(loss=\"categorical_crossentropy\", optimizer=\"adam\", metrics=[\"accuracy\"])"
   ]
  },
  {
   "cell_type": "code",
   "execution_count": 5,
   "id": "13e3e983",
   "metadata": {
    "execution": {
     "iopub.execute_input": "2023-03-28T00:58:24.999493Z",
     "iopub.status.busy": "2023-03-28T00:58:24.998445Z",
     "iopub.status.idle": "2023-03-28T00:58:47.533491Z",
     "shell.execute_reply": "2023-03-28T00:58:47.532398Z"
    },
    "papermill": {
     "duration": 22.544764,
     "end_time": "2023-03-28T00:58:47.535820",
     "exception": false,
     "start_time": "2023-03-28T00:58:24.991056",
     "status": "completed"
    },
    "tags": []
   },
   "outputs": [
    {
     "name": "stdout",
     "output_type": "stream",
     "text": [
      "Epoch 1/10\n",
      "197/197 [==============================] - 11s 8ms/step - loss: 2.0357 - accuracy: 0.8636 - val_loss: 0.1568 - val_accuracy: 0.9540\n",
      "Epoch 2/10\n",
      "197/197 [==============================] - 1s 7ms/step - loss: 0.1022 - accuracy: 0.9689 - val_loss: 0.1124 - val_accuracy: 0.9675\n",
      "Epoch 3/10\n",
      "197/197 [==============================] - 1s 6ms/step - loss: 0.0578 - accuracy: 0.9822 - val_loss: 0.1034 - val_accuracy: 0.9710\n",
      "Epoch 4/10\n",
      "197/197 [==============================] - 1s 6ms/step - loss: 0.0401 - accuracy: 0.9869 - val_loss: 0.0926 - val_accuracy: 0.9749\n",
      "Epoch 5/10\n",
      "197/197 [==============================] - 1s 6ms/step - loss: 0.0260 - accuracy: 0.9922 - val_loss: 0.0855 - val_accuracy: 0.9773\n",
      "Epoch 6/10\n",
      "197/197 [==============================] - 1s 6ms/step - loss: 0.0212 - accuracy: 0.9935 - val_loss: 0.0857 - val_accuracy: 0.9783\n",
      "Epoch 7/10\n",
      "197/197 [==============================] - 1s 7ms/step - loss: 0.0161 - accuracy: 0.9942 - val_loss: 0.1018 - val_accuracy: 0.9768\n",
      "Epoch 8/10\n",
      "197/197 [==============================] - 1s 6ms/step - loss: 0.0088 - accuracy: 0.9975 - val_loss: 0.0862 - val_accuracy: 0.9805\n",
      "Epoch 9/10\n",
      "197/197 [==============================] - 1s 6ms/step - loss: 0.0062 - accuracy: 0.9982 - val_loss: 0.0933 - val_accuracy: 0.9792\n",
      "Epoch 10/10\n",
      "197/197 [==============================] - 1s 7ms/step - loss: 0.0103 - accuracy: 0.9960 - val_loss: 0.1070 - val_accuracy: 0.9778\n"
     ]
    },
    {
     "data": {
      "text/plain": [
       "<keras.callbacks.History at 0x7f3fd4fa43d0>"
      ]
     },
     "execution_count": 5,
     "metadata": {},
     "output_type": "execute_result"
    }
   ],
   "source": [
    "# train the CNN model\n",
    "model.fit(X_train, y_train, batch_size=128, epochs=10, validation_split=0.2)"
   ]
  },
  {
   "cell_type": "code",
   "execution_count": 6,
   "id": "440ad6b7",
   "metadata": {
    "execution": {
     "iopub.execute_input": "2023-03-28T00:58:47.567004Z",
     "iopub.status.busy": "2023-03-28T00:58:47.566122Z",
     "iopub.status.idle": "2023-03-28T00:58:49.092983Z",
     "shell.execute_reply": "2023-03-28T00:58:49.091842Z"
    },
    "papermill": {
     "duration": 1.54411,
     "end_time": "2023-03-28T00:58:49.095234",
     "exception": false,
     "start_time": "2023-03-28T00:58:47.551124",
     "status": "completed"
    },
    "tags": []
   },
   "outputs": [
    {
     "name": "stdout",
     "output_type": "stream",
     "text": [
      "329/329 [==============================] - 1s 4ms/step - loss: 0.0900 - accuracy: 0.9824\n",
      "CNN accuracy: 0.9823809266090393\n"
     ]
    }
   ],
   "source": [
    "# evaluate the CNN model\n",
    "score = model.evaluate(X_test, y_test)\n",
    "print(\"CNN accuracy:\", score[1])"
   ]
  },
  {
   "cell_type": "code",
   "execution_count": 7,
   "id": "2081e308",
   "metadata": {
    "execution": {
     "iopub.execute_input": "2023-03-28T00:58:49.127835Z",
     "iopub.status.busy": "2023-03-28T00:58:49.127538Z",
     "iopub.status.idle": "2023-03-28T00:58:50.290398Z",
     "shell.execute_reply": "2023-03-28T00:58:50.289310Z"
    },
    "papermill": {
     "duration": 1.181987,
     "end_time": "2023-03-28T00:58:50.292769",
     "exception": false,
     "start_time": "2023-03-28T00:58:49.110782",
     "status": "completed"
    },
    "tags": []
   },
   "outputs": [
    {
     "name": "stdout",
     "output_type": "stream",
     "text": [
      "329/329 [==============================] - 1s 2ms/step\n"
     ]
    }
   ],
   "source": [
    "# predict the test set labels using CNN\n",
    "y_pred = model.predict(X_test)\n",
    "y_pred = np.argmax(y_pred, axis=1)"
   ]
  },
  {
   "cell_type": "code",
   "execution_count": 8,
   "id": "9cfc567d",
   "metadata": {
    "execution": {
     "iopub.execute_input": "2023-03-28T00:58:50.326922Z",
     "iopub.status.busy": "2023-03-28T00:58:50.326053Z",
     "iopub.status.idle": "2023-03-28T01:01:25.702359Z",
     "shell.execute_reply": "2023-03-28T01:01:25.701275Z"
    },
    "papermill": {
     "duration": 155.395948,
     "end_time": "2023-03-28T01:01:25.705320",
     "exception": false,
     "start_time": "2023-03-28T00:58:50.309372",
     "status": "completed"
    },
    "tags": []
   },
   "outputs": [
    {
     "name": "stderr",
     "output_type": "stream",
     "text": [
      "/opt/conda/lib/python3.7/site-packages/sklearn/neighbors/_classification.py:198: DataConversionWarning: A column-vector y was passed when a 1d array was expected. Please change the shape of y to (n_samples,), for example using ravel().\n",
      "  return self._fit(X, y)\n",
      "/opt/conda/lib/python3.7/site-packages/sklearn/utils/validation.py:993: DataConversionWarning: A column-vector y was passed when a 1d array was expected. Please change the shape of y to (n_samples, ), for example using ravel().\n",
      "  y = column_or_1d(y, warn=True)\n"
     ]
    }
   ],
   "source": [
    "# compare with traditional ML methods\n",
    "X_train_ml = X_train.reshape(X_train.shape[0], 28*28)\n",
    "X_test_ml = X_test.reshape(X_test.shape[0], 28*28)\n",
    "knn = KNeighborsClassifier(n_neighbors=5)\n",
    "knn.fit(X_train_ml, y_train_ML)\n",
    "y_pred_knn = knn.predict(X_test_ml)\n",
    "svm = SVC()\n",
    "svm.fit(X_train_ml, y_train_ML)\n",
    "y_pred_svm = svm.predict(X_test_ml)\n",
    "dt = DecisionTreeClassifier()\n",
    "dt.fit(X_train_ml, y_train_ML)\n",
    "y_pred_dt = dt.predict(X_test_ml)"
   ]
  },
  {
   "cell_type": "code",
   "execution_count": 9,
   "id": "085dcf77",
   "metadata": {
    "execution": {
     "iopub.execute_input": "2023-03-28T01:01:25.740655Z",
     "iopub.status.busy": "2023-03-28T01:01:25.739057Z",
     "iopub.status.idle": "2023-03-28T01:01:25.750975Z",
     "shell.execute_reply": "2023-03-28T01:01:25.749316Z"
    },
    "papermill": {
     "duration": 0.031182,
     "end_time": "2023-03-28T01:01:25.752937",
     "exception": false,
     "start_time": "2023-03-28T01:01:25.721755",
     "status": "completed"
    },
    "tags": []
   },
   "outputs": [
    {
     "name": "stdout",
     "output_type": "stream",
     "text": [
      "KNN accuracy: 0.9654285714285714\n",
      "SVM accuracy: 0.9736190476190476\n",
      "Decision Tree accuracy: 0.8551428571428571\n",
      "CNN accuracy: 0.9823809523809524\n"
     ]
    }
   ],
   "source": [
    "# calculate the accuracy scores\n",
    "acc_knn = accuracy_score(np.argmax(y_test, axis=1), y_pred_knn)\n",
    "acc_svm = accuracy_score(np.argmax(y_test, axis=1), y_pred_svm)\n",
    "acc_dt = accuracy_score(np.argmax(y_test, axis=1), y_pred_dt)\n",
    "acc_cnn = accuracy_score(np.argmax(y_test, axis=1), y_pred)\n",
    "print(\"KNN accuracy:\", acc_knn)\n",
    "print(\"SVM accuracy:\", acc_svm)\n",
    "print(\"Decision Tree accuracy:\", acc_dt)\n",
    "print(\"CNN accuracy:\", acc_cnn)"
   ]
  },
  {
   "cell_type": "code",
   "execution_count": 10,
   "id": "af2d315f",
   "metadata": {
    "execution": {
     "iopub.execute_input": "2023-03-28T01:01:25.786718Z",
     "iopub.status.busy": "2023-03-28T01:01:25.785934Z",
     "iopub.status.idle": "2023-03-28T01:01:26.564661Z",
     "shell.execute_reply": "2023-03-28T01:01:26.563346Z"
    },
    "papermill": {
     "duration": 0.798266,
     "end_time": "2023-03-28T01:01:26.567224",
     "exception": false,
     "start_time": "2023-03-28T01:01:25.768958",
     "status": "completed"
    },
    "tags": []
   },
   "outputs": [
    {
     "data": {
      "image/png": "[encoded data removed]",
      "text/plain": [
       "<Figure size 1200x1200 with 4 Axes>"
      ]
     },
     "metadata": {},
     "output_type": "display_data"
    }
   ],
   "source": [
    "# plot the confusion matrices\n",
    "fig, axes = plt.subplots(nrows=2, ncols=2, figsize=(12, 12))\n",
    "axes[0, 0].set_title(\"K-Nearest Neighbors Confusion Matrix\")\n",
    "axes[0, 1].set_title(\"Support Vector Machine Confusion Matrix\")\n",
    "axes[1, 0].set_title(\"Decision Tree Confusion Matrix\")\n",
    "axes[1, 1].set_title(\"CNN Confusion Matrix\")\n",
    "confmat_knn = confusion_matrix(np.argmax(y_test, axis=1), y_pred_knn)\n",
    "confmat_svm = confusion_matrix(np.argmax(y_test, axis=1), y_pred_svm)\n",
    "confmat_dt = confusion_matrix(np.argmax(y_test, axis=1), y_pred_dt)\n",
    "confmat_cnn = confusion_matrix(np.argmax(y_test, axis=1), y_pred)\n",
    "axes[0, 0].imshow(confmat_knn, cmap=plt.cm.Blues)\n",
    "axes[0, 1].imshow(confmat_svm, cmap=plt.cm.Blues)\n",
    "axes[1, 0].imshow(confmat_dt, cmap=plt.cm.Blues)\n",
    "axes[1, 1].imshow(confmat_cnn, cmap=plt.cm.Blues)\n",
    "for i in range(2):\n",
    "    for j in range(2):\n",
    "        axes[i, j].set_xticks(range(10))\n",
    "        axes[i, j].set_yticks(range(10))\n",
    "        axes[i, j].set_xlabel(\"Predicted label\")\n",
    "        axes[i, j].set_ylabel(\"True label\")\n",
    "plt.tight_layout()\n",
    "plt.show()"
   ]
  },
  {
   "cell_type": "code",
   "execution_count": 11,
   "id": "2f6b9548",
   "metadata": {
    "execution": {
     "iopub.execute_input": "2023-03-28T01:01:26.606171Z",
     "iopub.status.busy": "2023-03-28T01:01:26.605362Z",
     "iopub.status.idle": "2023-03-28T01:01:29.643106Z",
     "shell.execute_reply": "2023-03-28T01:01:29.642056Z"
    },
    "papermill": {
     "duration": 3.059087,
     "end_time": "2023-03-28T01:01:29.645574",
     "exception": false,
     "start_time": "2023-03-28T01:01:26.586487",
     "status": "completed"
    },
    "tags": []
   },
   "outputs": [
    {
     "name": "stdout",
     "output_type": "stream",
     "text": [
      "875/875 [==============================] - 2s 2ms/step\n"
     ]
    }
   ],
   "source": [
    "X_test_sub = test_data.iloc[:, :]\n",
    "X_test_sub = X_test_sub.values.reshape(X_test_sub.shape[0], 28, 28, 1)\n",
    "y_pred_sub = model.predict(X_test_sub)\n",
    "y_pred_sub = np.argmax(y_pred_sub, axis=1)\n",
    "y_pred_sub = pd.Series(y_pred_sub,name=\"Label\")\n",
    "submission = pd.concat([pd.Series(range(1,28001),name = \"ImageId\"),y_pred_sub],axis = 1)\n",
    "submission.to_csv('submission.csv', index=False)"
   ]
  }
 ],
 "metadata": {
  "kernelspec": {
   "display_name": "Python 3",
   "language": "python",
   "name": "python3"
  },
  "language_info": {
   "codemirror_mode": {
    "name": "ipython",
    "version": 3
   },
   "file_extension": ".py",
   "mimetype": "text/x-python",
   "name": "python",
   "nbconvert_exporter": "python",
   "pygments_lexer": "ipython3",
   "version": "3.7.12"
  },
  "papermill": {
   "default_parameters": {},
   "duration": 216.052895,
   "end_time": "2023-03-28T01:01:32.932550",
   "environment_variables": {},
   "exception": null,
   "input_path": "__notebook__.ipynb",
   "output_path": "__notebook__.ipynb",
   "parameters": {},
   "start_time": "2023-03-28T00:57:56.879655",
   "version": "2.4.0"
  }
 },
 "nbformat": 4,
 "nbformat_minor": 5
}
